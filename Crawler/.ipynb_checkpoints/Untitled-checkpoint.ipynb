{
 "cells": [
  {
   "cell_type": "code",
   "execution_count": 36,
   "id": "19b5f30d-35da-475b-8c97-269520b6e6af",
   "metadata": {},
   "outputs": [],
   "source": [
    "from pyspark.sql import SparkSession\n",
    "spark = SparkSession.builder.getOrCreate()"
   ]
  },
  {
   "cell_type": "code",
   "execution_count": 37,
   "id": "522c4a23-2916-449e-bafd-71c7af317b06",
   "metadata": {},
   "outputs": [],
   "source": [
    "news = spark.read \\\n",
    "    .format(\"jdbc\") \\\n",
    "    .option(\"driver\",\"com.mysql.cj.jdbc.Driver\") \\\n",
    "    .option(\"url\", \"jdbc:mysql://140.238.153.4:8443/naver_miniproject\") \\\n",
    "    .option(\"dbtable\",\"news\") \\\n",
    "    .option(\"numPartitions\",5) \\\n",
    "    .option(\"user\", \"minip3\") \\\n",
    "    .option(\"password\", 'enCore1289!') \\\n",
    "    .load()"
   ]
  },
  {
   "cell_type": "code",
   "execution_count": 38,
   "id": "bcf74b6d-eb78-4b9d-87f0-06e33f51af07",
   "metadata": {},
   "outputs": [
    {
     "name": "stderr",
     "output_type": "stream",
     "text": [
      "[Stage 0:>                                                          (0 + 1) / 1]\r"
     ]
    },
    {
     "name": "stdout",
     "output_type": "stream",
     "text": [
      "+---+------------+-----------+----------------------------------+-------------------+---------------------------------+--------------------+-------------------------+\n",
      "| id|main_section|sub_section|                             title|           datetime|                          content|           image_src|                   byline|\n",
      "+---+------------+-----------+----------------------------------+-------------------+---------------------------------+--------------------+-------------------------+\n",
      "|  1|         100|        264|대통령실 민정수석 부활…시민사회...|2024-05-01 23:10:00|김주현·박찬호 등…민정수석 검토...|https://imgnews.p...|박미영 기자(mypark@new...|\n",
      "|  2|         100|        264| 이르면 내주 용산 조직개편…민정...|2024-05-01 22:07:00|정무수석실도 재정비…정책·홍보 ...|https://imgnews.p...|  정아란(airan@yna.co....|\n",
      "|  3|         100|        264|  윤 대통령, 다음주 공식 기자회...|2024-05-01 20:45:00| [뉴스리뷰][앵커]윤석열 대통령...|                null|  최지숙(js173@yna.co.kr)|\n",
      "+---+------------+-----------+----------------------------------+-------------------+---------------------------------+--------------------+-------------------------+\n",
      "\n"
     ]
    },
    {
     "name": "stderr",
     "output_type": "stream",
     "text": [
      "                                                                                \r"
     ]
    }
   ],
   "source": [
    "news.limit(3).show()"
   ]
  },
  {
   "cell_type": "code",
   "execution_count": 39,
   "id": "88972e67-c3ca-4d67-befc-8c469334f6e4",
   "metadata": {},
   "outputs": [
    {
     "name": "stderr",
     "output_type": "stream",
     "text": [
      "                                                                                \r"
     ]
    },
    {
     "data": {
      "text/plain": [
       "241993"
      ]
     },
     "execution_count": 39,
     "metadata": {},
     "output_type": "execute_result"
    }
   ],
   "source": [
    "news.count()"
   ]
  },
  {
   "cell_type": "code",
   "execution_count": 40,
   "id": "984e9260-a34d-4f68-8e29-ddb42f31b1fd",
   "metadata": {},
   "outputs": [],
   "source": [
    "from pyspark.sql import SparkSession\n",
    "from pyspark.sql.functions import year, month, dayofmonth,col"
   ]
  },
  {
   "cell_type": "code",
   "execution_count": 41,
   "id": "82707606-c3b9-4328-8f14-158cc1037e78",
   "metadata": {},
   "outputs": [],
   "source": [
    "news_md = news.withColumn(\"month\", month(col(\"datetime\")))"
   ]
  },
  {
   "cell_type": "code",
   "execution_count": 42,
   "id": "607f69b4-beb7-41eb-94e9-60ec854c7651",
   "metadata": {},
   "outputs": [],
   "source": [
    "news_md = news_md.withColumn(\"day\", dayofmonth(col(\"datetime\")))"
   ]
  },
  {
   "cell_type": "code",
   "execution_count": 43,
   "id": "ab5a981e-9c4f-4791-8783-99036efc828e",
   "metadata": {},
   "outputs": [
    {
     "name": "stderr",
     "output_type": "stream",
     "text": [
      "[Stage 4:>                                                          (0 + 1) / 1]\r"
     ]
    },
    {
     "name": "stdout",
     "output_type": "stream",
     "text": [
      "+---+------------+-----------+----------------------------------+-------------------+---------------------------------+--------------------+-------------------------+-----+---+\n",
      "| id|main_section|sub_section|                             title|           datetime|                          content|           image_src|                   byline|month|day|\n",
      "+---+------------+-----------+----------------------------------+-------------------+---------------------------------+--------------------+-------------------------+-----+---+\n",
      "|  1|         100|        264|대통령실 민정수석 부활…시민사회...|2024-05-01 23:10:00|김주현·박찬호 등…민정수석 검토...|https://imgnews.p...|박미영 기자(mypark@new...|    5|  1|\n",
      "+---+------------+-----------+----------------------------------+-------------------+---------------------------------+--------------------+-------------------------+-----+---+\n",
      "\n"
     ]
    },
    {
     "name": "stderr",
     "output_type": "stream",
     "text": [
      "                                                                                \r"
     ]
    }
   ],
   "source": [
    "news_md.limit(1).show()"
   ]
  },
  {
   "cell_type": "code",
   "execution_count": 44,
   "id": "8db48285-ffa9-41c6-8d99-f5b077465947",
   "metadata": {},
   "outputs": [
    {
     "name": "stdout",
     "output_type": "stream",
     "text": [
      "root\n",
      " |-- id: integer (nullable = true)\n",
      " |-- main_section: string (nullable = true)\n",
      " |-- sub_section: string (nullable = true)\n",
      " |-- title: string (nullable = true)\n",
      " |-- datetime: timestamp (nullable = true)\n",
      " |-- content: string (nullable = true)\n",
      " |-- image_src: string (nullable = true)\n",
      " |-- byline: string (nullable = true)\n",
      " |-- month: integer (nullable = true)\n",
      " |-- day: integer (nullable = true)\n",
      "\n"
     ]
    }
   ],
   "source": [
    "news_md.printSchema()"
   ]
  },
  {
   "cell_type": "code",
   "execution_count": 45,
   "id": "faabe1a6-077d-4bcf-b36b-29724e19b775",
   "metadata": {},
   "outputs": [
    {
     "name": "stdout",
     "output_type": "stream",
     "text": [
      "Requirement already satisfied: hdfs in /home/hadoop/miniconda3/lib/python3.10/site-packages (2.7.3)\n",
      "Requirement already satisfied: docopt in /home/hadoop/miniconda3/lib/python3.10/site-packages (from hdfs) (0.6.2)\n",
      "Requirement already satisfied: requests>=2.7.0 in /home/hadoop/miniconda3/lib/python3.10/site-packages (from hdfs) (2.31.0)\n",
      "Requirement already satisfied: six>=1.9.0 in /home/hadoop/miniconda3/lib/python3.10/site-packages (from hdfs) (1.16.0)\n",
      "Requirement already satisfied: charset-normalizer<4,>=2 in /home/hadoop/miniconda3/lib/python3.10/site-packages (from requests>=2.7.0->hdfs) (3.3.2)\n",
      "Requirement already satisfied: idna<4,>=2.5 in /home/hadoop/miniconda3/lib/python3.10/site-packages (from requests>=2.7.0->hdfs) (3.6)\n",
      "Requirement already satisfied: urllib3<3,>=1.21.1 in /home/hadoop/miniconda3/lib/python3.10/site-packages (from requests>=2.7.0->hdfs) (2.0.7)\n",
      "Requirement already satisfied: certifi>=2017.4.17 in /home/hadoop/miniconda3/lib/python3.10/site-packages (from requests>=2.7.0->hdfs) (2023.11.17)\n",
      "Note: you may need to restart the kernel to use updated packages.\n"
     ]
    }
   ],
   "source": [
    "pip install hdfs"
   ]
  },
  {
   "cell_type": "code",
   "execution_count": 112,
   "id": "2bdf9c18-36d2-4ed8-9cbd-f98555ace642",
   "metadata": {},
   "outputs": [],
   "source": [
    "classpath = subprocess.Popen([\"/home/hadoop/hadoop/bin/hdfs\", \"classpath\", \"--glob\"], stdout=subprocess.PIPE).communicate()[0]\n",
    "os.environ[\"CLASSPATH\"] = classpath.decode(\"utf-8\")\n",
    "hdfs = fs.HadoopFileSystem(host='192.168.0.251', port=8020, user='minip3')"
   ]
  },
  {
   "cell_type": "code",
   "execution_count": 116,
   "id": "76d81c5b-e485-4d8b-b252-265abae3849d",
   "metadata": {},
   "outputs": [
    {
     "data": {
      "text/plain": [
       "[<FileInfo for '/test': type=FileType.Directory>,\n",
       " <FileInfo for '/user': type=FileType.Directory>,\n",
       " <FileInfo for '/user/minip3': type=FileType.Directory>,\n",
       " <FileInfo for '/user/minip3/mort': type=FileType.Directory>]"
      ]
     },
     "execution_count": 116,
     "metadata": {},
     "output_type": "execute_result"
    }
   ],
   "source": [
    "hdfs.get_file_info(pa.fs.FileSelector(\"/.\", recursive=True))  "
   ]
  },
  {
   "cell_type": "code",
   "execution_count": 117,
   "id": "37ea9590-9535-443f-936c-5273697628e5",
   "metadata": {},
   "outputs": [
    {
     "data": {
      "text/plain": [
       "<pyarrow._hdfs.HadoopFileSystem at 0x7fe238bcd2b0>"
      ]
     },
     "execution_count": 117,
     "metadata": {},
     "output_type": "execute_result"
    }
   ],
   "source": [
    "hdfs"
   ]
  },
  {
   "cell_type": "code",
   "execution_count": 118,
   "id": "146486ec-168a-4c84-a494-b7cf0f112835",
   "metadata": {},
   "outputs": [],
   "source": [
    "local = fs.LocalFileSystem()"
   ]
  },
  {
   "cell_type": "code",
   "execution_count": 119,
   "id": "71f2012d-0dc1-4577-b8ef-e508f06e2c4a",
   "metadata": {},
   "outputs": [
    {
     "data": {
      "text/plain": [
       "<pyarrow._fs.LocalFileSystem at 0x7fe239c9bcf0>"
      ]
     },
     "execution_count": 119,
     "metadata": {},
     "output_type": "execute_result"
    }
   ],
   "source": [
    "local"
   ]
  },
  {
   "cell_type": "code",
   "execution_count": 122,
   "id": "b97edeb5-484a-4c0a-bf4a-695edc2a8fc0",
   "metadata": {},
   "outputs": [],
   "source": [
    "hdfs_base_path = 'hdfs://192.168.0.251:8020/user/minip3/mort'"
   ]
  },
  {
   "cell_type": "code",
   "execution_count": 131,
   "id": "ede1e3a1-4e86-461d-841d-347a3a54bea0",
   "metadata": {},
   "outputs": [
    {
     "name": "stdout",
     "output_type": "stream",
     "text": [
      "root\n",
      " |-- id: integer (nullable = true)\n",
      " |-- main_section: string (nullable = true)\n",
      " |-- sub_section: string (nullable = true)\n",
      " |-- title: string (nullable = true)\n",
      " |-- datetime: timestamp (nullable = true)\n",
      " |-- content: string (nullable = true)\n",
      " |-- image_src: string (nullable = true)\n",
      " |-- byline: string (nullable = true)\n",
      " |-- month: integer (nullable = true)\n",
      " |-- day: integer (nullable = true)\n",
      "\n"
     ]
    }
   ],
   "source": [
    "news_temp.printSchema()"
   ]
  },
  {
   "cell_type": "code",
   "execution_count": 144,
   "id": "675ce5d9-ca3c-4599-bf84-9943608c9648",
   "metadata": {},
   "outputs": [],
   "source": [
    "# sqlalchemy pymysql ->panda df로 변환->pyarrow hdfs 객체-> parquet"
   ]
  },
  {
   "cell_type": "code",
   "execution_count": 137,
   "id": "01d69512-7dc8-49d6-bfc3-e1ed7d931e87",
   "metadata": {},
   "outputs": [
    {
     "name": "stderr",
     "output_type": "stream",
     "text": [
      "                                                                                \r"
     ]
    }
   ],
   "source": [
    "from pyspark.sql.functions import date_format\n",
    "\n",
    "news_temp = news_temp.withColumn(\"datetime\", date_format(\"datetime\", \"yyyy-MM-dd HH:mm:ss\"))"
   ]
  },
  {
   "cell_type": "code",
   "execution_count": 140,
   "id": "b6023947-171a-4b11-b823-15c21a14816b",
   "metadata": {},
   "outputs": [
    {
     "name": "stdout",
     "output_type": "stream",
     "text": [
      "<class 'pandas.core.frame.DataFrame'>\n",
      "RangeIndex: 13885 entries, 0 to 13884\n",
      "Data columns (total 10 columns):\n",
      " #   Column        Non-Null Count  Dtype \n",
      "---  ------        --------------  ----- \n",
      " 0   id            13885 non-null  int32 \n",
      " 1   main_section  13885 non-null  object\n",
      " 2   sub_section   13885 non-null  object\n",
      " 3   title         13885 non-null  object\n",
      " 4   datetime      13885 non-null  object\n",
      " 5   content       13885 non-null  object\n",
      " 6   image_src     11936 non-null  object\n",
      " 7   byline        13325 non-null  object\n",
      " 8   month         13885 non-null  int32 \n",
      " 9   day           13885 non-null  int32 \n",
      "dtypes: int32(3), object(7)\n",
      "memory usage: 922.2+ KB\n"
     ]
    }
   ],
   "source": [
    "news_temp.info()"
   ]
  },
  {
   "cell_type": "code",
   "execution_count": 152,
   "id": "3944b81a-f0a9-41fd-929d-80af94f60072",
   "metadata": {},
   "outputs": [
    {
     "name": "stderr",
     "output_type": "stream",
     "text": [
      "                                                                                \r"
     ]
    }
   ],
   "source": [
    "for i in range(14,16): #5월1일부터 5월 16일까지\n",
    "    # print(i)\n",
    "    news_temp = news_md.filter((col(\"month\") == 5) & (col(\"day\") == i))\n",
    "    news_temp = news_temp.withColumn(\"datetime\", date_format(\"datetime\", \"yyyy-MM-dd HH:mm:ss\"))\n",
    "    output_path = f\"{hdfs_base_path}/news_5_{i}.parquet\"\n",
    "    # output_path = f\"{hdfs_base_path}/month=5/day={i}/news_temp.parquet\"\n",
    "    hdfs = fs.HadoopFileSystem(host='192.168.0.251', port=8020, user='minip3')\n",
    "    # HadoopFileSystem을 사용하여 HDFS에 저장\n",
    "    with hdfs.open_output_stream(output_path) as file:\n",
    "        pq.write_table(pa.Table.from_pandas(news_temp.toPandas()), file)\n",
    "    # news_temp.write.parquet(output_path, mode='overwrite')\n",
    "    # with local.open_output_stream(output_path) as stream:\n",
    "        # stream.write(b'data')\n",
    "    # hdfs_path = f\"{hdfs_base_path}/month=5/day={i}\"\n",
    "    # hdfs_path = f\"hdfs://192.168.0.251:50070/user/minip3/mort/month=5/day={i}\"\n",
    "    # news_temp.write.parquet(hdfs_path)\n",
    "    # hdfs://192.168.0.251:8020/data/month=5/day={i}\n",
    "    # output_path = f\"/home/hadoop/DE31-3rd_team3/Crawler/news_temp_{i}.parquet\"\n",
    "    # news_temp.write.parquet(output_path, mode='overwrite')\n",
    "    # os.system(f\"hadoop fs -put {output_path} /user/minip3/mort/\")  \n",
    "    # with fs.HadoopFileSystem(host='192.168.0.251', port=8020, user='minip3') as fs1:\n",
    "    #     with fs1.open_output_stream(hdfs_path) as f1:\n",
    "    #         pq.write_table(news_temp, f1)\n",
    "    # with fs.HadoopFileSystem(host='192.168.0.251', port=8020, user='minip3') as hdfs:\n",
    "    #     with fs.open_output_stream(hdfs_path) as f:\n",
    "    #             pq.write_table(news_temp,f)"
   ]
  },
  {
   "cell_type": "code",
   "execution_count": 99,
   "id": "cc9d3868-d70a-4421-b3ac-f0bda72e675f",
   "metadata": {},
   "outputs": [
    {
     "data": {
      "text/plain": [
       "[<FileInfo for '/test': type=FileType.Directory>,\n",
       " <FileInfo for '/user': type=FileType.Directory>,\n",
       " <FileInfo for '/user/minip3': type=FileType.Directory>,\n",
       " <FileInfo for '/user/minip3/mort': type=FileType.Directory>]"
      ]
     },
     "execution_count": 99,
     "metadata": {},
     "output_type": "execute_result"
    }
   ],
   "source": [
    "hdfs.get_file_info(fs.FileSelector(\"/\", recursive=True))"
   ]
  },
  {
   "cell_type": "code",
   "execution_count": 100,
   "id": "1c1e5809-33d8-4ed2-8d40-485549309b89",
   "metadata": {},
   "outputs": [
    {
     "data": {
      "text/plain": [
       "<bound method FileSystem.open_input_file of <pyarrow._hdfs.HadoopFileSystem object at 0x7fe238f62930>>"
      ]
     },
     "execution_count": 100,
     "metadata": {},
     "output_type": "execute_result"
    }
   ],
   "source": [
    "hdfs.open_input_file"
   ]
  },
  {
   "cell_type": "code",
   "execution_count": 49,
   "id": "09bc2fbb-1687-42d7-8ab1-0bb21457b3bc",
   "metadata": {},
   "outputs": [],
   "source": [
    "# hdfs_base_path = \"hdfs://192.168.0.251:8020/home/minip3\""
   ]
  },
  {
   "cell_type": "code",
   "execution_count": 101,
   "id": "17718516-25e7-4ccf-a1dd-3f3de04148d8",
   "metadata": {},
   "outputs": [],
   "source": [
    "hdfs.create_dir(\"mort\""
   ]
  },
  {
   "cell_type": "code",
   "execution_count": 104,
   "id": "06469705-aa93-4881-bd36-b324636248ef",
   "metadata": {},
   "outputs": [],
   "source": []
  },
  {
   "cell_type": "code",
   "execution_count": 150,
   "id": "0c68a293-1282-4b99-8f34-cc8a1bc87c6e",
   "metadata": {},
   "outputs": [],
   "source": [
    "data = spark.read.parquet(\"hdfs://192.168.0.251:8020/user/minip3/mort/news_5_1.parquet\")"
   ]
  },
  {
   "cell_type": "code",
   "execution_count": 151,
   "id": "ffcbf441-6a1c-43dc-b155-fc46a30ef294",
   "metadata": {},
   "outputs": [
    {
     "name": "stderr",
     "output_type": "stream",
     "text": [
      "[Stage 27:>                                                         (0 + 1) / 1]\r"
     ]
    },
    {
     "name": "stdout",
     "output_type": "stream",
     "text": [
      "+---+------------+-----------+----------------------------------+-------------------+----------------------------------+--------------------+--------------------------+-----+---+\n",
      "| id|main_section|sub_section|                             title|           datetime|                           content|           image_src|                    byline|month|day|\n",
      "+---+------------+-----------+----------------------------------+-------------------+----------------------------------+--------------------+--------------------------+-----+---+\n",
      "|  1|         100|        264|대통령실 민정수석 부활…시민사회...|2024-05-01 23:10:00| 김주현·박찬호 등…민정수석 검토...|https://imgnews.p...| 박미영 기자(mypark@new...|    5|  1|\n",
      "|  2|         100|        264| 이르면 내주 용산 조직개편…민정...|2024-05-01 22:07:00| 정무수석실도 재정비…정책·홍보 ...|https://imgnews.p...|   정아란(airan@yna.co....|    5|  1|\n",
      "|  3|         100|        264|  윤 대통령, 다음주 공식 기자회...|2024-05-01 20:45:00|  [뉴스리뷰][앵커]윤석열 대통령...|                null|   최지숙(js173@yna.co.kr)|    5|  1|\n",
      "|  4|         100|        264|    尹 “노동 가치 꼭 보호” 근로...|2024-05-01 20:42:00|  윤석열 대통령은 1일 근로자의 ...|                null| 김미희 기자 maha@kookj...|    5|  1|\n",
      "|  5|         100|        264|   선관위, 특혜 채용 감사 방해 ...|2024-05-01 20:28:00|  경력채용 관련 내용 삭제 정황 ...|https://imgnews.p...|남빛나라 기자(south@new...|    5|  1|\n",
      "|  6|         100|        264|   전공의 '연속근무' 시간 최대 ...|2024-05-01 19:36:00|     현행 36시간서 여건 따라 24...|https://imgnews.p...| 정지형 기자 (kingkong@...|    5|  1|\n",
      "|  7|         100|        264|    윤 대통령, DJ 따라 민정수석...|2024-05-01 19:28:00|   윤석열 대통령이 23일 서울 용...|https://imgnews.p...| 유설희 기자 sorry@kyun...|    5|  1|\n",
      "|  8|         100|        264|  [단독]홍철호 “국민들 눈물있는...|2024-05-01 19:09:00|    윤석열 대통령(왼쪽)이 22일 ...|https://imgnews.p...| 장관석 기자 jks@donga.com|    5|  1|\n",
      "|  9|         100|        264|   尹·李 회담, 이태원특별법 첫 ...|2024-05-01 19:02:00|  野 강행처리→尹 거부권에 석달 ...|https://imgnews.p...|   홍지인(geein@yna.co....|    5|  1|\n",
      "| 10|         100|        264|    ‘1명 낳으면 1억원’ 물어보니...|2024-05-01 18:35:00|      권익위, 1만3000명 참여한 ...|https://imgnews.p...|   박태진(tjpark@edaily...|    5|  1|\n",
      "| 11|         100|        264|   안보실장 \"북한, 민족 부정…통...|2024-05-01 18:35:00|장호진 대통령실 국가안보실장은 ...|                null|   최지원(jiwoner@yna.c...|    5|  1|\n",
      "| 12|         100|        264|  윤 대통령 \"실전 같은 훈련으로...|2024-05-01 18:34:00| 윤석열 대통령은 엄중한 안보 상...|                null|   최지숙(js173@yna.co.kr)|    5|  1|\n",
      "| 13|         100|        264|  대통령실 \"이태원법 합의 환영…...|2024-05-01 18:20:00| 대통령실은 여야가 '이태원 참사...|                null|   최지숙(js173@yna.co.kr)|    5|  1|\n",
      "| 14|         100|        264|  尹대통령, 이르면 다음주 취임2...|2024-05-01 18:15:00|  윤석열 대통령이 취임 2주년을 ...|                null| 김학재 기자 (hjkim01@f...|    5|  1|\n",
      "| 15|         100|        264|   윤 대통령 \"강한군대 구축\"…신...|2024-05-01 18:03:00|  손대권 군수사령관 등 7명 진급...|https://imgnews.p...| 정지형 기자 (kingkong@...|    5|  1|\n",
      "| 16|         100|        264|  [단독]대통령실, 민정수석 역할...|2024-05-01 17:59:00|대통령실 직제개편 윤곽 민생침해...|https://imgnews.p...| 김학재 기자 (hjkim01@f...|    5|  1|\n",
      "| 17|         100|        264|      '뉴욕 3부작' 남기고... 미...|2024-05-01 17:55:00|  뉴욕 브루클린의 '문학계 세계 ...|https://imgnews.p...| 전혼잎 기자 (hoihoi@ha...|    5|  1|\n",
      "| 18|         100|        264| \"집행정지, 대입전형과 충돌되지...|2024-05-01 17:54:00|  의협 '범의료계 협의체'에 중대...|https://imgnews.p...| 강승지 기자 (ksj@news1...|    5|  1|\n",
      "| 19|         100|        264| 대통령실 민정수석 신설 김주현 ...|2024-05-01 17:48:00|이르면 주중 대통령실 개편공석이...|https://imgnews.p...| 우제윤 기자(jywoo@mk.c...|    5|  1|\n",
      "| 20|         100|        264|  [포토] 삼정검에 수치 달아주는...|2024-05-01 17:48:00|  윤석열 대통령이 1일 서울 용산...|https://imgnews.p...| 이승환 기자(presslee@m...|    5|  1|\n",
      "+---+------------+-----------+----------------------------------+-------------------+----------------------------------+--------------------+--------------------------+-----+---+\n",
      "only showing top 20 rows\n",
      "\n"
     ]
    },
    {
     "name": "stderr",
     "output_type": "stream",
     "text": [
      "                                                                                \r"
     ]
    }
   ],
   "source": [
    "data.show()"
   ]
  }
 ],
 "metadata": {
  "kernelspec": {
   "display_name": "Python 3 (ipykernel)",
   "language": "python",
   "name": "python3"
  },
  "language_info": {
   "codemirror_mode": {
    "name": "ipython",
    "version": 3
   },
   "file_extension": ".py",
   "mimetype": "text/x-python",
   "name": "python",
   "nbconvert_exporter": "python",
   "pygments_lexer": "ipython3",
   "version": "3.10.14"
  }
 },
 "nbformat": 4,
 "nbformat_minor": 5
}
